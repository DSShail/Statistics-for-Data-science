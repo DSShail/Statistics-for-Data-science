{
 "cells": [
  {
   "cell_type": "code",
   "execution_count": 11,
   "id": "275b4c7b-a174-4d36-9532-618791f9bf09",
   "metadata": {},
   "outputs": [
    {
     "name": "stdout",
     "output_type": "stream",
     "text": [
      "Collecting seaborn\n",
      "  Downloading seaborn-0.13.2-py3-none-any.whl.metadata (5.4 kB)\n",
      "Requirement already satisfied: numpy!=1.24.0,>=1.20 in c:\\users\\abhishek\\anaconda3\\envs\\demo\\lib\\site-packages (from seaborn) (1.26.4)\n",
      "Requirement already satisfied: pandas>=1.2 in c:\\users\\abhishek\\anaconda3\\envs\\demo\\lib\\site-packages (from seaborn) (2.2.2)\n",
      "Requirement already satisfied: matplotlib!=3.6.1,>=3.4 in c:\\users\\abhishek\\anaconda3\\envs\\demo\\lib\\site-packages (from seaborn) (3.8.4)\n",
      "Requirement already satisfied: contourpy>=1.0.1 in c:\\users\\abhishek\\anaconda3\\envs\\demo\\lib\\site-packages (from matplotlib!=3.6.1,>=3.4->seaborn) (1.2.0)\n",
      "Requirement already satisfied: cycler>=0.10 in c:\\users\\abhishek\\anaconda3\\envs\\demo\\lib\\site-packages (from matplotlib!=3.6.1,>=3.4->seaborn) (0.12.1)\n",
      "Requirement already satisfied: fonttools>=4.22.0 in c:\\users\\abhishek\\anaconda3\\envs\\demo\\lib\\site-packages (from matplotlib!=3.6.1,>=3.4->seaborn) (4.25.0)\n",
      "Requirement already satisfied: kiwisolver>=1.3.1 in c:\\users\\abhishek\\anaconda3\\envs\\demo\\lib\\site-packages (from matplotlib!=3.6.1,>=3.4->seaborn) (1.4.4)\n",
      "Requirement already satisfied: packaging>=20.0 in c:\\users\\abhishek\\anaconda3\\envs\\demo\\lib\\site-packages (from matplotlib!=3.6.1,>=3.4->seaborn) (24.0)\n",
      "Requirement already satisfied: pillow>=8 in c:\\users\\abhishek\\anaconda3\\envs\\demo\\lib\\site-packages (from matplotlib!=3.6.1,>=3.4->seaborn) (10.2.0)\n",
      "Requirement already satisfied: pyparsing>=2.3.1 in c:\\users\\abhishek\\anaconda3\\envs\\demo\\lib\\site-packages (from matplotlib!=3.6.1,>=3.4->seaborn) (3.0.9)\n",
      "Requirement already satisfied: python-dateutil>=2.7 in c:\\users\\abhishek\\anaconda3\\envs\\demo\\lib\\site-packages (from matplotlib!=3.6.1,>=3.4->seaborn) (2.9.0)\n",
      "Requirement already satisfied: pytz>=2020.1 in c:\\users\\abhishek\\anaconda3\\envs\\demo\\lib\\site-packages (from pandas>=1.2->seaborn) (2024.1)\n",
      "Requirement already satisfied: tzdata>=2022.7 in c:\\users\\abhishek\\anaconda3\\envs\\demo\\lib\\site-packages (from pandas>=1.2->seaborn) (2024.1)\n",
      "Requirement already satisfied: six>=1.5 in c:\\users\\abhishek\\anaconda3\\envs\\demo\\lib\\site-packages (from python-dateutil>=2.7->matplotlib!=3.6.1,>=3.4->seaborn) (1.16.0)\n",
      "Downloading seaborn-0.13.2-py3-none-any.whl (294 kB)\n",
      "   ---------------------------------------- 0.0/294.9 kB ? eta -:--:--\n",
      "   ---------------------------------------- 0.0/294.9 kB ? eta -:--:--\n",
      "   ---------------------------------------- 0.0/294.9 kB ? eta -:--:--\n",
      "   ---------------------------------------- 0.0/294.9 kB ? eta -:--:--\n",
      "   ---------------------------------------- 0.0/294.9 kB ? eta -:--:--\n",
      "   -- ------------------------------------- 20.5/294.9 kB ? eta -:--:--\n",
      "   ----- --------------------------------- 41.0/294.9 kB 487.6 kB/s eta 0:00:01\n",
      "   ---------- ---------------------------- 81.9/294.9 kB 508.4 kB/s eta 0:00:01\n",
      "   --------------------- ---------------- 163.8/294.9 kB 817.0 kB/s eta 0:00:01\n",
      "   ------------------------------ ------- 235.5/294.9 kB 901.1 kB/s eta 0:00:01\n",
      "   -------------------------------------- - 286.7/294.9 kB 1.0 MB/s eta 0:00:01\n",
      "   -------------------------------------- - 286.7/294.9 kB 1.0 MB/s eta 0:00:01\n",
      "   -------------------------------------- 294.9/294.9 kB 827.5 kB/s eta 0:00:00\n",
      "Installing collected packages: seaborn\n",
      "Successfully installed seaborn-0.13.2\n"
     ]
    }
   ],
   "source": [
    "!pip install seaborn"
   ]
  },
  {
   "cell_type": "code",
   "execution_count": 16,
   "id": "8b2ca7e3-9cfe-4279-97a1-96552cb86b13",
   "metadata": {},
   "outputs": [],
   "source": [
    "import pandas as pd\n",
    "import seaborn as sns\n",
    "import numpy as np"
   ]
  },
  {
   "cell_type": "code",
   "execution_count": 3,
   "id": "84babcec-0886-4079-806a-1a3ee570ec08",
   "metadata": {},
   "outputs": [],
   "source": [
    "match_df=pd.read_csv('matches.csv')"
   ]
  },
  {
   "cell_type": "code",
   "execution_count": 4,
   "id": "c115238e-8177-41c5-9d7a-2eb3a7639fdd",
   "metadata": {},
   "outputs": [
    {
     "name": "stdout",
     "output_type": "stream",
     "text": [
      "<class 'pandas.core.frame.DataFrame'>\n",
      "RangeIndex: 636 entries, 0 to 635\n",
      "Data columns (total 18 columns):\n",
      " #   Column           Non-Null Count  Dtype  \n",
      "---  ------           --------------  -----  \n",
      " 0   id               636 non-null    int64  \n",
      " 1   season           636 non-null    int64  \n",
      " 2   city             629 non-null    object \n",
      " 3   date             636 non-null    object \n",
      " 4   team1            636 non-null    object \n",
      " 5   team2            636 non-null    object \n",
      " 6   toss_winner      636 non-null    object \n",
      " 7   toss_decision    636 non-null    object \n",
      " 8   result           636 non-null    object \n",
      " 9   dl_applied       636 non-null    int64  \n",
      " 10  winner           633 non-null    object \n",
      " 11  win_by_runs      636 non-null    int64  \n",
      " 12  win_by_wickets   636 non-null    int64  \n",
      " 13  player_of_match  633 non-null    object \n",
      " 14  venue            636 non-null    object \n",
      " 15  umpire1          635 non-null    object \n",
      " 16  umpire2          635 non-null    object \n",
      " 17  umpire3          0 non-null      float64\n",
      "dtypes: float64(1), int64(5), object(12)\n",
      "memory usage: 89.6+ KB\n"
     ]
    }
   ],
   "source": [
    "match_df.info()"
   ]
  },
  {
   "cell_type": "code",
   "execution_count": 13,
   "id": "417f01a4-6648-48f9-9a2b-f14b931825a0",
   "metadata": {},
   "outputs": [],
   "source": [
    "win_by_run=match_df['win_by_runs'].values"
   ]
  },
  {
   "cell_type": "code",
   "execution_count": 15,
   "id": "7d322329-803b-45d6-8a6e-f95fc893fa8e",
   "metadata": {},
   "outputs": [
    {
     "name": "stderr",
     "output_type": "stream",
     "text": [
      "C:\\Users\\Abhishek\\AppData\\Local\\Temp\\ipykernel_15688\\4215666318.py:1: UserWarning: \n",
      "\n",
      "`distplot` is a deprecated function and will be removed in seaborn v0.14.0.\n",
      "\n",
      "Please adapt your code to use either `displot` (a figure-level function with\n",
      "similar flexibility) or `histplot` (an axes-level function for histograms).\n",
      "\n",
      "For a guide to updating your code to use the new functions, please see\n",
      "https://gist.github.com/mwaskom/de44147ed2974457ad6372750bbe5751\n",
      "\n",
      "  sns.distplot(win_by_run)\n"
     ]
    },
    {
     "data": {
      "text/plain": [
       "<Axes: ylabel='Density'>"
      ]
     },
     "execution_count": 15,
     "metadata": {},
     "output_type": "execute_result"
    },
    {
     "data": {
      "image/png": "[encoded data removed]",
      "text/plain": [
       "<Figure size 640x560 with 1 Axes>"
      ]
     },
     "metadata": {},
     "output_type": "display_data"
    }
   ],
   "source": [
    "sns.distplot(win_by_run)"
   ]
  },
  {
   "cell_type": "markdown",
   "id": "9227a27d-1a4f-4c30-bfce-279aa7bce6aa",
   "metadata": {},
   "source": [
    "#### this is not a normal distribution- it is right skewed. Now we will perform sampling on this data and prove CLT"
   ]
  },
  {
   "cell_type": "markdown",
   "id": "532a357b-59cc-4f8f-823a-b3a4729f9500",
   "metadata": {},
   "source": [
    "- n is the size of the  a sample\n",
    "- m is the number of times the sampling is done"
   ]
  },
  {
   "cell_type": "code",
   "execution_count": 17,
   "id": "aac88f3c-a92b-4fc8-891e-358cc3838049",
   "metadata": {},
   "outputs": [
    {
     "data": {
      "text/plain": [
       "array([41,  0,  0, 12, 55,  0,  2,  0, 32,  0], dtype=int64)"
      ]
     },
     "execution_count": 17,
     "metadata": {},
     "output_type": "execute_result"
    }
   ],
   "source": [
    "np.random.choice(win_by_run,size=10)"
   ]
  },
  {
   "cell_type": "code",
   "execution_count": 20,
   "id": "0f74ec17-40ee-40e4-a9c9-fe42362f2191",
   "metadata": {},
   "outputs": [],
   "source": [
    "m=1000\n",
    "n=20\n",
    "new=[]\n",
    "for i in range(m):\n",
    "    x=np.random.choice(win_by_run,size=n)\n",
    "    new.append(x.mean())"
   ]
  },
  {
   "cell_type": "code",
   "execution_count": 23,
   "id": "40246c74-99ca-44a0-9fb0-bbca9054d962",
   "metadata": {},
   "outputs": [],
   "source": [
    "new=np.array(new)"
   ]
  },
  {
   "cell_type": "code",
   "execution_count": 24,
   "id": "2d2493c1-af51-4fb0-9379-76d30653533f",
   "metadata": {},
   "outputs": [
    {
     "name": "stderr",
     "output_type": "stream",
     "text": [
      "C:\\Users\\Abhishek\\AppData\\Local\\Temp\\ipykernel_15688\\397519180.py:1: UserWarning: \n",
      "\n",
      "`distplot` is a deprecated function and will be removed in seaborn v0.14.0.\n",
      "\n",
      "Please adapt your code to use either `displot` (a figure-level function with\n",
      "similar flexibility) or `histplot` (an axes-level function for histograms).\n",
      "\n",
      "For a guide to updating your code to use the new functions, please see\n",
      "https://gist.github.com/mwaskom/de44147ed2974457ad6372750bbe5751\n",
      "\n",
      "  sns.distplot(new)\n"
     ]
    },
    {
     "data": {
      "text/plain": [
       "<Axes: ylabel='Density'>"
      ]
     },
     "execution_count": 24,
     "metadata": {},
     "output_type": "execute_result"
    },
    {
     "data": {
      "image/png": "[encoded data removed]",
      "text/plain": [
       "<Figure size 640x560 with 1 Axes>"
      ]
     },
     "metadata": {},
     "output_type": "display_data"
    }
   ],
   "source": [
    "sns.distplot(new)"
   ]
  },
  {
   "cell_type": "markdown",
   "id": "6b220ca7-3cac-4c0a-ab87-b391867b5145",
   "metadata": {},
   "source": [
    "#### if we look the distribution after the sampling, it looks like normal distribution"
   ]
  },
  {
   "cell_type": "markdown",
   "id": "9e5c9c08-9fba-485c-bb84-d37c308cd30e",
   "metadata": {},
   "source": [
    "#### Also we can compare the mean of the popution and mean of the sample"
   ]
  },
  {
   "cell_type": "code",
   "execution_count": 27,
   "id": "983b40ff-6871-4650-b95e-33a0dc84e136",
   "metadata": {},
   "outputs": [
    {
     "data": {
      "text/plain": [
       "13.682389937106919"
      ]
     },
     "execution_count": 27,
     "metadata": {},
     "output_type": "execute_result"
    }
   ],
   "source": [
    "match_df['win_by_runs'].mean() #original dataset"
   ]
  },
  {
   "cell_type": "code",
   "execution_count": 26,
   "id": "43ac36b3-9b91-4b7b-a29e-10691756a690",
   "metadata": {},
   "outputs": [
    {
     "data": {
      "text/plain": [
       "13.7595"
      ]
     },
     "execution_count": 26,
     "metadata": {},
     "output_type": "execute_result"
    }
   ],
   "source": [
    "new.mean() # new is the list of samples"
   ]
  },
  {
   "cell_type": "code",
   "execution_count": null,
   "id": "99390955-9a80-4408-91ba-671a0f3dda0e",
   "metadata": {},
   "outputs": [],
   "source": [
    "##### They are very "
   ]
  }
 ],
 "metadata": {
  "kernelspec": {
   "display_name": "Python (mydemo)",
   "language": "python",
   "name": "demo"
  },
  "language_info": {
   "codemirror_mode": {
    "name": "ipython",
    "version": 3
   },
   "file_extension": ".py",
   "mimetype": "text/x-python",
   "name": "python",
   "nbconvert_exporter": "python",
   "pygments_lexer": "ipython3",
   "version": "3.12.3"
  }
 },
 "nbformat": 4,
 "nbformat_minor": 5
}
